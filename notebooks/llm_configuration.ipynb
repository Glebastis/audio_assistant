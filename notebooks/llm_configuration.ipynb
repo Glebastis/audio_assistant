{
 "cells": [
  {
   "cell_type": "code",
   "execution_count": 1,
   "metadata": {},
   "outputs": [],
   "source": [
    "import requests\n",
    "\n",
    "\n",
    "\n",
    "\n",
    "\n",
    "\n",
    "# get reply from local llm\n",
    "def get_llm_answer_ooba(joined_md_table, seed = 10):\n",
    "\n",
    "    url = \"http://127.0.0.1:5000/v1/completions\"\n",
    "\n",
    "    headers = {\n",
    "        \"Content-Type\": \"application/json\"\n",
    "    }\n",
    "\n",
    "    data = {\n",
    "        \"prompt\": f\"Question: could you kindly extract characteristics of \\\n",
    "            the product from this .md table in a form of json? Such as amount, mark, type and so on. \\\n",
    "                All keys in json should be in russian please! \\\n",
    "                If there are several rows, extract chatacteristic from them all. \\\n",
    "                Return only json. All keys and values should be in the original language!\\n {joined_md_table}\\n\\n\\\n",
    "                    Answer: \",\n",
    "        \"max_tokens\": 3000,\n",
    "        \"temperature\": 1,\n",
    "        \"top_p\": 1,\n",
    "        'min_p':0.05,\n",
    "        \"seed\": seed,\n",
    "        # \"stream\": True,\n",
    "    }\n",
    "\n",
    "    response = requests.post(url, headers=headers, json=data, verify=False)\n",
    "    # client = sseclient.SSEClient(stream_response)\n",
    "    return response.json()['choices'][0]['text']\n",
    "    # print(response.json()['choices'][0]['text'], end='')"
   ]
  },
  {
   "cell_type": "code",
   "execution_count": 2,
   "metadata": {},
   "outputs": [],
   "source": [
    "table = '''|№ п/п|Наименование Товара|Технические и качественные характеристики, функциональные (потребительские свойства) характеристики, эксплуатационные характеристики (при необходимости) Товара|Технические и качественные характеристики, функциональные (потребительские свойства) характеристики, эксплуатационные характеристики (при необходимости) Товара|Технические и качественные характеристики, функциональные (потребительские свойства) характеристики, эксплуатационные характеристики (при необходимости) Товара|Ед.  изм.|Кол-во|\n",
    "|---|---|---|---|---|---|---|\n",
    "|№ п/п|Наименование Товара|Показатели товара, которые не могут изменяться в соответствии с п.2.2.1.1. Инструкции по заполнению заявки на участие в электронном аукционе Раздела 2 документации об аукционе|Показатели товара, для которых установлены минимальные и/или максимальные значения показателей в соответствии с п.2.2.1.2. Инструкции по заполнению заявки на участие в электронном аукционе Раздела 2 документации об аукционе|Обоснование необходимости использования информации, не предусмотренной каталогом товаров, работ, услуг для обеспечения государственных и муниципальных нужд, в отношении дополнительных характеристик|Ед.  изм.|Кол-во|\n",
    "|1|Бумага для офисной техники белая|Формат: А4|-|-|пачка|41095|\n",
    "|1|Бумага для офисной техники белая|Количество листов в пачке: 500 штук.|-|-|пачка|41095|\n",
    "|1|Бумага для офисной техники белая|-|Марка бумаги: А|-|пачка|41095|\n",
    "|1|Бумага для офисной техники белая|-|Масса бумаги площадью 1м2, г:  80|В целях соблюдения рекомендаций производителей принтеров, сканеров, многофункциональных устройств и иного аналогичного оборудования для достижения оптимального качества печати, а также во избежание застревания бумаги и поломок данного оборудования|пачка|41095|'''"
   ]
  },
  {
   "cell_type": "code",
   "execution_count": 4,
   "metadata": {},
   "outputs": [],
   "source": [
    "ret = get_llm_answer_ooba(table, seed = 10)"
   ]
  },
  {
   "cell_type": "code",
   "execution_count": 6,
   "metadata": {},
   "outputs": [
    {
     "name": "stdout",
     "output_type": "stream",
     "text": [
      " ```json\n",
      "{\n",
      "  \"Товар\": {\n",
      "    \"Наименование\": \"Бумага для офисной техники белая\",\n",
      "    \"Количество листов\": 500,\n",
      "    \"Марка\": \"А\",\n",
      "    \"Масса\": 80,\n",
      "    \"Единица измерения\": \"пачка\"\n",
      "  }\n",
      "}\n",
      "```\n"
     ]
    }
   ],
   "source": [
    "print(ret)"
   ]
  },
  {
   "cell_type": "code",
   "execution_count": null,
   "metadata": {},
   "outputs": [],
   "source": [
    "\n",
    "while"
   ]
  }
 ],
 "metadata": {
  "kernelspec": {
   "display_name": "Python 3",
   "language": "python",
   "name": "python3"
  },
  "language_info": {
   "codemirror_mode": {
    "name": "ipython",
    "version": 3
   },
   "file_extension": ".py",
   "mimetype": "text/x-python",
   "name": "python",
   "nbconvert_exporter": "python",
   "pygments_lexer": "ipython3",
   "version": "3.10.12"
  }
 },
 "nbformat": 4,
 "nbformat_minor": 2
}
